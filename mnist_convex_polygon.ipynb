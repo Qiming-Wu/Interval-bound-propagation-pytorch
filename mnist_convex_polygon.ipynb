{
 "cells": [
  {
   "cell_type": "code",
   "execution_count": 1,
   "metadata": {},
   "outputs": [],
   "source": [
    "import os\n",
    "os.environ[\"CUDA_DEVICE_ORDER\"]=\"PCI_BUS_ID\"\n",
    "os.environ[\"CUDA_VISIBLE_DEVICES\"]=\"0\"\n",
    "\n",
    "import torch.nn as nn\n",
    "import math\n",
    "import copy\n",
    "import random\n",
    "import numpy as np\n",
    "import torch\n",
    "import torch.optim as optim\n",
    "import torch.nn.functional as F\n",
    "import torch.nn as nn\n",
    "from torch.nn.parameter import Parameter\n",
    "from network import *\n",
    "from util import *\n",
    "learning_rate = 0.001"
   ]
  },
  {
   "cell_type": "code",
   "execution_count": 2,
   "metadata": {},
   "outputs": [
    {
     "name": "stdout",
     "output_type": "stream",
     "text": [
      "cuda:0\n"
     ]
    }
   ],
   "source": [
    "trainloader, testloader = get_mnist()                                \n",
    "device = torch.device(\"cuda:0\" if torch.cuda.is_available() else \"cpu\")\n",
    "print(device)\n",
    "net = MNIST_Medium_ConvNet(\n",
    "    non_negative = [False, False, False, False, False, False, False],\n",
    "    norm = [False, False, False, False, False, False, False]\n",
    ")\n",
    "net = net.to(device)"
   ]
  },
  {
   "cell_type": "code",
   "execution_count": null,
   "metadata": {},
   "outputs": [],
   "source": [
    "criterion = nn.CrossEntropyLoss()\n",
    "optimizer = optim.Adam(filter(lambda p: p.requires_grad, net.parameters()), learning_rate)\n",
    "scheduler = torch.optim.lr_scheduler.MultiStepLR(optimizer, milestones=[15000,25000], gamma=0.1)\n",
    "eps = 2/255 * 1.1\n",
    "running_eps = 0\n",
    "epoch = 0\n",
    "itr = 0\n",
    "while itr < 60000:\n",
    "    running_loss = 0\n",
    "    for i, data in enumerate(trainloader, 0):\n",
    "        net.train() \n",
    "\n",
    "        inputs, labels = data\n",
    "        inputs, labels = inputs.to(device), labels.to(device)\n",
    "        loss = 0\n",
    "        optimizer.zero_grad()\n",
    "\n",
    "        outputs = net(torch.cat([inputs, inputs], 0))\n",
    "        outputs  = outputs[:outputs.shape[0]//2]\n",
    "        loss += criterion(outputs, labels)\n",
    "        \n",
    "        if itr > 2000 and itr < 12000:\n",
    "            running_eps += eps/10000\n",
    "            \n",
    "        if itr > 2000:\n",
    "            x_ub = inputs + running_eps\n",
    "            x_lb = inputs - running_eps\n",
    "            outputs = net.forward_g(torch.cat([x_ub, x_lb], 0))\n",
    "            v_hb = outputs[:outputs.shape[0]//2]\n",
    "            v_lb = outputs[outputs.shape[0]//2:]\n",
    "            weight = net.score_function.weight\n",
    "            bias = net.score_function.bias\n",
    "            w = weight.unsqueeze(0).expand(v_hb.shape[0],-1,-1) - weight[labels].unsqueeze(1)\n",
    "            b = bias.unsqueeze(0).expand(v_hb.shape[0],-1) - bias[labels].unsqueeze(-1)\n",
    "            u = ((v_hb + v_lb)/2).unsqueeze(1)\n",
    "            r = ((v_hb - v_lb)/2).unsqueeze(1)\n",
    "            w = torch.transpose(w,1,2)\n",
    "            out_u = (u@w).squeeze(1) + b\n",
    "            out_r = (r@torch.abs(w)).squeeze(1)\n",
    "            loss += torch.mean(torch.log(1 + torch.exp(out_u + out_r)))\n",
    "\n",
    "        loss.backward()\n",
    "        optimizer.step()\n",
    "        itr+=1\n",
    "        running_loss += loss.item()\n",
    "    print('[%d, %5d] loss: %.3f' %(epoch + 1, i + 1, running_loss / 600))\n",
    "    net.eval()\n",
    "    print_accuracy(net, trainloader, testloader, device, test=True, eps = 0)\n",
    "    if itr > 250000:\n",
    "        print(\"verified test acc:\", verify_robustness(net, testloader, device, eps = 2/255))\n",
    "    epoch+= 1"
   ]
  }
 ],
 "metadata": {
  "kernelspec": {
   "display_name": "Python 3",
   "language": "python",
   "name": "python3"
  },
  "language_info": {
   "codemirror_mode": {
    "name": "ipython",
    "version": 3
   },
   "file_extension": ".py",
   "mimetype": "text/x-python",
   "name": "python",
   "nbconvert_exporter": "python",
   "pygments_lexer": "ipython3",
   "version": "3.6.5"
  }
 },
 "nbformat": 4,
 "nbformat_minor": 2
}
